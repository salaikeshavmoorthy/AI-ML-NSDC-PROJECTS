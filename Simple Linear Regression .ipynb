{
 "cells": [
  {
   "cell_type": "markdown",
   "id": "eab4997a",
   "metadata": {},
   "source": [
    "_*Simple Linear Regression*_ [Supervised Learning] is the phenomena of predicting the response variable <br> with the single input variable. this is mathematically represented as Y=F(x). <br> The graphical representation of the SLR is a straight line of equation Y = mX + c."
   ]
  },
  {
   "cell_type": "markdown",
   "id": "bd474da9",
   "metadata": {},
   "source": [
    "Applications of simple linear regression is :\n",
    "  - Growth of kid (Height and Age)\n",
    "  - Salary of an employee (Expirience and Salary)"
   ]
  },
  {
   "cell_type": "markdown",
   "id": "c2bb9b63",
   "metadata": {},
   "source": [
    "### Import Libraries"
   ]
  },
  {
   "cell_type": "code",
   "execution_count": 87,
   "id": "2ea836b9",
   "metadata": {
    "scrolled": true
   },
   "outputs": [
    {
     "name": "stderr",
     "output_type": "stream",
     "text": [
      "UsageError: unrecognized arguments: #this makes graphs static,appearence will be inlines in jupiter notebooks\n"
     ]
    }
   ],
   "source": [
    "import numpy as np #numbers\n",
    "import pandas as pd #dataframe\n",
    "import matplotlib.pyplot as plp #we can plot the points\n",
    "import seaborn as sns #data visualisation to plot points and bar charts \n",
    "%matplotlib intline #this makes graphs static,appearence will be inlines in jupiter notebooks"
   ]
  },
  {
   "cell_type": "markdown",
   "id": "6b5a5185",
   "metadata": {},
   "source": [
    "### Import DataFrame"
   ]
  },
  {
   "cell_type": "code",
   "execution_count": 22,
   "id": "0ade508a",
   "metadata": {},
   "outputs": [],
   "source": [
    "df=pd.read_excel(\"C:/Users/salai/PYTHON/Salary_Data.xlsx\")"
   ]
  },
  {
   "cell_type": "code",
   "execution_count": 23,
   "id": "31674d54",
   "metadata": {},
   "outputs": [
    {
     "data": {
      "text/html": [
       "<div>\n",
       "<style scoped>\n",
       "    .dataframe tbody tr th:only-of-type {\n",
       "        vertical-align: middle;\n",
       "    }\n",
       "\n",
       "    .dataframe tbody tr th {\n",
       "        vertical-align: top;\n",
       "    }\n",
       "\n",
       "    .dataframe thead th {\n",
       "        text-align: right;\n",
       "    }\n",
       "</style>\n",
       "<table border=\"1\" class=\"dataframe\">\n",
       "  <thead>\n",
       "    <tr style=\"text-align: right;\">\n",
       "      <th></th>\n",
       "      <th>Experience</th>\n",
       "      <th>Salary</th>\n",
       "    </tr>\n",
       "  </thead>\n",
       "  <tbody>\n",
       "    <tr>\n",
       "      <th>0</th>\n",
       "      <td>1.1</td>\n",
       "      <td>39343</td>\n",
       "    </tr>\n",
       "    <tr>\n",
       "      <th>1</th>\n",
       "      <td>1.3</td>\n",
       "      <td>46205</td>\n",
       "    </tr>\n",
       "    <tr>\n",
       "      <th>2</th>\n",
       "      <td>1.5</td>\n",
       "      <td>37731</td>\n",
       "    </tr>\n",
       "    <tr>\n",
       "      <th>3</th>\n",
       "      <td>2.0</td>\n",
       "      <td>38500</td>\n",
       "    </tr>\n",
       "    <tr>\n",
       "      <th>4</th>\n",
       "      <td>2.2</td>\n",
       "      <td>39891</td>\n",
       "    </tr>\n",
       "    <tr>\n",
       "      <th>5</th>\n",
       "      <td>2.9</td>\n",
       "      <td>56642</td>\n",
       "    </tr>\n",
       "    <tr>\n",
       "      <th>6</th>\n",
       "      <td>3.0</td>\n",
       "      <td>60150</td>\n",
       "    </tr>\n",
       "    <tr>\n",
       "      <th>7</th>\n",
       "      <td>3.2</td>\n",
       "      <td>62000</td>\n",
       "    </tr>\n",
       "    <tr>\n",
       "      <th>8</th>\n",
       "      <td>3.2</td>\n",
       "      <td>64445</td>\n",
       "    </tr>\n",
       "    <tr>\n",
       "      <th>9</th>\n",
       "      <td>3.7</td>\n",
       "      <td>57189</td>\n",
       "    </tr>\n",
       "    <tr>\n",
       "      <th>10</th>\n",
       "      <td>3.9</td>\n",
       "      <td>63218</td>\n",
       "    </tr>\n",
       "    <tr>\n",
       "      <th>11</th>\n",
       "      <td>4.0</td>\n",
       "      <td>60000</td>\n",
       "    </tr>\n",
       "    <tr>\n",
       "      <th>12</th>\n",
       "      <td>4.0</td>\n",
       "      <td>56957</td>\n",
       "    </tr>\n",
       "    <tr>\n",
       "      <th>13</th>\n",
       "      <td>4.1</td>\n",
       "      <td>57081</td>\n",
       "    </tr>\n",
       "    <tr>\n",
       "      <th>14</th>\n",
       "      <td>4.5</td>\n",
       "      <td>61111</td>\n",
       "    </tr>\n",
       "    <tr>\n",
       "      <th>15</th>\n",
       "      <td>4.9</td>\n",
       "      <td>65000</td>\n",
       "    </tr>\n",
       "    <tr>\n",
       "      <th>16</th>\n",
       "      <td>5.1</td>\n",
       "      <td>66029</td>\n",
       "    </tr>\n",
       "    <tr>\n",
       "      <th>17</th>\n",
       "      <td>5.3</td>\n",
       "      <td>83088</td>\n",
       "    </tr>\n",
       "    <tr>\n",
       "      <th>18</th>\n",
       "      <td>5.9</td>\n",
       "      <td>81363</td>\n",
       "    </tr>\n",
       "    <tr>\n",
       "      <th>19</th>\n",
       "      <td>6.0</td>\n",
       "      <td>93940</td>\n",
       "    </tr>\n",
       "    <tr>\n",
       "      <th>20</th>\n",
       "      <td>6.8</td>\n",
       "      <td>91738</td>\n",
       "    </tr>\n",
       "    <tr>\n",
       "      <th>21</th>\n",
       "      <td>7.1</td>\n",
       "      <td>98273</td>\n",
       "    </tr>\n",
       "    <tr>\n",
       "      <th>22</th>\n",
       "      <td>7.9</td>\n",
       "      <td>101302</td>\n",
       "    </tr>\n",
       "    <tr>\n",
       "      <th>23</th>\n",
       "      <td>8.2</td>\n",
       "      <td>113812</td>\n",
       "    </tr>\n",
       "    <tr>\n",
       "      <th>24</th>\n",
       "      <td>8.7</td>\n",
       "      <td>109431</td>\n",
       "    </tr>\n",
       "    <tr>\n",
       "      <th>25</th>\n",
       "      <td>9.0</td>\n",
       "      <td>105582</td>\n",
       "    </tr>\n",
       "    <tr>\n",
       "      <th>26</th>\n",
       "      <td>9.5</td>\n",
       "      <td>116969</td>\n",
       "    </tr>\n",
       "    <tr>\n",
       "      <th>27</th>\n",
       "      <td>9.6</td>\n",
       "      <td>112635</td>\n",
       "    </tr>\n",
       "    <tr>\n",
       "      <th>28</th>\n",
       "      <td>10.3</td>\n",
       "      <td>122391</td>\n",
       "    </tr>\n",
       "    <tr>\n",
       "      <th>29</th>\n",
       "      <td>10.5</td>\n",
       "      <td>121872</td>\n",
       "    </tr>\n",
       "  </tbody>\n",
       "</table>\n",
       "</div>"
      ],
      "text/plain": [
       "    Experience  Salary\n",
       "0          1.1   39343\n",
       "1          1.3   46205\n",
       "2          1.5   37731\n",
       "3          2.0   38500\n",
       "4          2.2   39891\n",
       "5          2.9   56642\n",
       "6          3.0   60150\n",
       "7          3.2   62000\n",
       "8          3.2   64445\n",
       "9          3.7   57189\n",
       "10         3.9   63218\n",
       "11         4.0   60000\n",
       "12         4.0   56957\n",
       "13         4.1   57081\n",
       "14         4.5   61111\n",
       "15         4.9   65000\n",
       "16         5.1   66029\n",
       "17         5.3   83088\n",
       "18         5.9   81363\n",
       "19         6.0   93940\n",
       "20         6.8   91738\n",
       "21         7.1   98273\n",
       "22         7.9  101302\n",
       "23         8.2  113812\n",
       "24         8.7  109431\n",
       "25         9.0  105582\n",
       "26         9.5  116969\n",
       "27         9.6  112635\n",
       "28        10.3  122391\n",
       "29        10.5  121872"
      ]
     },
     "execution_count": 23,
     "metadata": {},
     "output_type": "execute_result"
    }
   ],
   "source": [
    "df"
   ]
  },
  {
   "cell_type": "code",
   "execution_count": 24,
   "id": "f3dc4d55",
   "metadata": {},
   "outputs": [],
   "source": [
    "DF=pd.DataFrame(df,columns=['Experience','Salary'])"
   ]
  },
  {
   "cell_type": "code",
   "execution_count": 25,
   "id": "d441dc7b",
   "metadata": {},
   "outputs": [
    {
     "data": {
      "text/html": [
       "<div>\n",
       "<style scoped>\n",
       "    .dataframe tbody tr th:only-of-type {\n",
       "        vertical-align: middle;\n",
       "    }\n",
       "\n",
       "    .dataframe tbody tr th {\n",
       "        vertical-align: top;\n",
       "    }\n",
       "\n",
       "    .dataframe thead th {\n",
       "        text-align: right;\n",
       "    }\n",
       "</style>\n",
       "<table border=\"1\" class=\"dataframe\">\n",
       "  <thead>\n",
       "    <tr style=\"text-align: right;\">\n",
       "      <th></th>\n",
       "      <th>Experience</th>\n",
       "      <th>Salary</th>\n",
       "    </tr>\n",
       "  </thead>\n",
       "  <tbody>\n",
       "    <tr>\n",
       "      <th>0</th>\n",
       "      <td>1.1</td>\n",
       "      <td>39343</td>\n",
       "    </tr>\n",
       "    <tr>\n",
       "      <th>1</th>\n",
       "      <td>1.3</td>\n",
       "      <td>46205</td>\n",
       "    </tr>\n",
       "    <tr>\n",
       "      <th>2</th>\n",
       "      <td>1.5</td>\n",
       "      <td>37731</td>\n",
       "    </tr>\n",
       "    <tr>\n",
       "      <th>3</th>\n",
       "      <td>2.0</td>\n",
       "      <td>38500</td>\n",
       "    </tr>\n",
       "    <tr>\n",
       "      <th>4</th>\n",
       "      <td>2.2</td>\n",
       "      <td>39891</td>\n",
       "    </tr>\n",
       "    <tr>\n",
       "      <th>5</th>\n",
       "      <td>2.9</td>\n",
       "      <td>56642</td>\n",
       "    </tr>\n",
       "    <tr>\n",
       "      <th>6</th>\n",
       "      <td>3.0</td>\n",
       "      <td>60150</td>\n",
       "    </tr>\n",
       "    <tr>\n",
       "      <th>7</th>\n",
       "      <td>3.2</td>\n",
       "      <td>62000</td>\n",
       "    </tr>\n",
       "    <tr>\n",
       "      <th>8</th>\n",
       "      <td>3.2</td>\n",
       "      <td>64445</td>\n",
       "    </tr>\n",
       "    <tr>\n",
       "      <th>9</th>\n",
       "      <td>3.7</td>\n",
       "      <td>57189</td>\n",
       "    </tr>\n",
       "    <tr>\n",
       "      <th>10</th>\n",
       "      <td>3.9</td>\n",
       "      <td>63218</td>\n",
       "    </tr>\n",
       "    <tr>\n",
       "      <th>11</th>\n",
       "      <td>4.0</td>\n",
       "      <td>60000</td>\n",
       "    </tr>\n",
       "    <tr>\n",
       "      <th>12</th>\n",
       "      <td>4.0</td>\n",
       "      <td>56957</td>\n",
       "    </tr>\n",
       "    <tr>\n",
       "      <th>13</th>\n",
       "      <td>4.1</td>\n",
       "      <td>57081</td>\n",
       "    </tr>\n",
       "    <tr>\n",
       "      <th>14</th>\n",
       "      <td>4.5</td>\n",
       "      <td>61111</td>\n",
       "    </tr>\n",
       "    <tr>\n",
       "      <th>15</th>\n",
       "      <td>4.9</td>\n",
       "      <td>65000</td>\n",
       "    </tr>\n",
       "    <tr>\n",
       "      <th>16</th>\n",
       "      <td>5.1</td>\n",
       "      <td>66029</td>\n",
       "    </tr>\n",
       "    <tr>\n",
       "      <th>17</th>\n",
       "      <td>5.3</td>\n",
       "      <td>83088</td>\n",
       "    </tr>\n",
       "    <tr>\n",
       "      <th>18</th>\n",
       "      <td>5.9</td>\n",
       "      <td>81363</td>\n",
       "    </tr>\n",
       "    <tr>\n",
       "      <th>19</th>\n",
       "      <td>6.0</td>\n",
       "      <td>93940</td>\n",
       "    </tr>\n",
       "    <tr>\n",
       "      <th>20</th>\n",
       "      <td>6.8</td>\n",
       "      <td>91738</td>\n",
       "    </tr>\n",
       "    <tr>\n",
       "      <th>21</th>\n",
       "      <td>7.1</td>\n",
       "      <td>98273</td>\n",
       "    </tr>\n",
       "    <tr>\n",
       "      <th>22</th>\n",
       "      <td>7.9</td>\n",
       "      <td>101302</td>\n",
       "    </tr>\n",
       "    <tr>\n",
       "      <th>23</th>\n",
       "      <td>8.2</td>\n",
       "      <td>113812</td>\n",
       "    </tr>\n",
       "    <tr>\n",
       "      <th>24</th>\n",
       "      <td>8.7</td>\n",
       "      <td>109431</td>\n",
       "    </tr>\n",
       "    <tr>\n",
       "      <th>25</th>\n",
       "      <td>9.0</td>\n",
       "      <td>105582</td>\n",
       "    </tr>\n",
       "    <tr>\n",
       "      <th>26</th>\n",
       "      <td>9.5</td>\n",
       "      <td>116969</td>\n",
       "    </tr>\n",
       "    <tr>\n",
       "      <th>27</th>\n",
       "      <td>9.6</td>\n",
       "      <td>112635</td>\n",
       "    </tr>\n",
       "    <tr>\n",
       "      <th>28</th>\n",
       "      <td>10.3</td>\n",
       "      <td>122391</td>\n",
       "    </tr>\n",
       "    <tr>\n",
       "      <th>29</th>\n",
       "      <td>10.5</td>\n",
       "      <td>121872</td>\n",
       "    </tr>\n",
       "  </tbody>\n",
       "</table>\n",
       "</div>"
      ],
      "text/plain": [
       "    Experience  Salary\n",
       "0          1.1   39343\n",
       "1          1.3   46205\n",
       "2          1.5   37731\n",
       "3          2.0   38500\n",
       "4          2.2   39891\n",
       "5          2.9   56642\n",
       "6          3.0   60150\n",
       "7          3.2   62000\n",
       "8          3.2   64445\n",
       "9          3.7   57189\n",
       "10         3.9   63218\n",
       "11         4.0   60000\n",
       "12         4.0   56957\n",
       "13         4.1   57081\n",
       "14         4.5   61111\n",
       "15         4.9   65000\n",
       "16         5.1   66029\n",
       "17         5.3   83088\n",
       "18         5.9   81363\n",
       "19         6.0   93940\n",
       "20         6.8   91738\n",
       "21         7.1   98273\n",
       "22         7.9  101302\n",
       "23         8.2  113812\n",
       "24         8.7  109431\n",
       "25         9.0  105582\n",
       "26         9.5  116969\n",
       "27         9.6  112635\n",
       "28        10.3  122391\n",
       "29        10.5  121872"
      ]
     },
     "execution_count": 25,
     "metadata": {},
     "output_type": "execute_result"
    }
   ],
   "source": [
    "DF"
   ]
  },
  {
   "cell_type": "markdown",
   "id": "c14d0359",
   "metadata": {},
   "source": [
    "### Scatter plot representation"
   ]
  },
  {
   "cell_type": "code",
   "execution_count": 26,
   "id": "8517d3a7",
   "metadata": {},
   "outputs": [
    {
     "data": {
      "text/plain": [
       "<AxesSubplot:xlabel='Experience', ylabel='Salary'>"
      ]
     },
     "execution_count": 26,
     "metadata": {},
     "output_type": "execute_result"
    },
    {
     "data": {
      "image/png": "[encoded data removed]",
      "text/plain": [
       "<Figure size 432x288 with 1 Axes>"
      ]
     },
     "metadata": {
      "needs_background": "light"
     },
     "output_type": "display_data"
    }
   ],
   "source": [
    "DF.plot.scatter(x='Experience',y='Salary')"
   ]
  },
  {
   "cell_type": "code",
   "execution_count": 27,
   "id": "2f8ad382",
   "metadata": {},
   "outputs": [
    {
     "name": "stdout",
     "output_type": "stream",
     "text": [
      "<class 'pandas.core.frame.DataFrame'>\n",
      "RangeIndex: 30 entries, 0 to 29\n",
      "Data columns (total 2 columns):\n",
      " #   Column      Non-Null Count  Dtype  \n",
      "---  ------      --------------  -----  \n",
      " 0   Experience  30 non-null     float64\n",
      " 1   Salary      30 non-null     int64  \n",
      "dtypes: float64(1), int64(1)\n",
      "memory usage: 608.0 bytes\n"
     ]
    }
   ],
   "source": [
    "DF.info()"
   ]
  },
  {
   "cell_type": "code",
   "execution_count": 28,
   "id": "74a1a8af",
   "metadata": {},
   "outputs": [
    {
     "data": {
      "text/html": [
       "<div>\n",
       "<style scoped>\n",
       "    .dataframe tbody tr th:only-of-type {\n",
       "        vertical-align: middle;\n",
       "    }\n",
       "\n",
       "    .dataframe tbody tr th {\n",
       "        vertical-align: top;\n",
       "    }\n",
       "\n",
       "    .dataframe thead th {\n",
       "        text-align: right;\n",
       "    }\n",
       "</style>\n",
       "<table border=\"1\" class=\"dataframe\">\n",
       "  <thead>\n",
       "    <tr style=\"text-align: right;\">\n",
       "      <th></th>\n",
       "      <th>Experience</th>\n",
       "      <th>Salary</th>\n",
       "    </tr>\n",
       "  </thead>\n",
       "  <tbody>\n",
       "    <tr>\n",
       "      <th>count</th>\n",
       "      <td>30.000000</td>\n",
       "      <td>30.000000</td>\n",
       "    </tr>\n",
       "    <tr>\n",
       "      <th>mean</th>\n",
       "      <td>5.313333</td>\n",
       "      <td>76129.600000</td>\n",
       "    </tr>\n",
       "    <tr>\n",
       "      <th>std</th>\n",
       "      <td>2.837888</td>\n",
       "      <td>27405.764752</td>\n",
       "    </tr>\n",
       "    <tr>\n",
       "      <th>min</th>\n",
       "      <td>1.100000</td>\n",
       "      <td>37731.000000</td>\n",
       "    </tr>\n",
       "    <tr>\n",
       "      <th>25%</th>\n",
       "      <td>3.200000</td>\n",
       "      <td>57108.000000</td>\n",
       "    </tr>\n",
       "    <tr>\n",
       "      <th>50%</th>\n",
       "      <td>4.700000</td>\n",
       "      <td>64722.500000</td>\n",
       "    </tr>\n",
       "    <tr>\n",
       "      <th>75%</th>\n",
       "      <td>7.700000</td>\n",
       "      <td>100544.750000</td>\n",
       "    </tr>\n",
       "    <tr>\n",
       "      <th>max</th>\n",
       "      <td>10.500000</td>\n",
       "      <td>122391.000000</td>\n",
       "    </tr>\n",
       "  </tbody>\n",
       "</table>\n",
       "</div>"
      ],
      "text/plain": [
       "       Experience         Salary\n",
       "count   30.000000      30.000000\n",
       "mean     5.313333   76129.600000\n",
       "std      2.837888   27405.764752\n",
       "min      1.100000   37731.000000\n",
       "25%      3.200000   57108.000000\n",
       "50%      4.700000   64722.500000\n",
       "75%      7.700000  100544.750000\n",
       "max     10.500000  122391.000000"
      ]
     },
     "execution_count": 28,
     "metadata": {},
     "output_type": "execute_result"
    }
   ],
   "source": [
    "DF.describe()"
   ]
  },
  {
   "cell_type": "code",
   "execution_count": 29,
   "id": "dda52fda",
   "metadata": {},
   "outputs": [],
   "source": [
    "import seaborn as sns"
   ]
  },
  {
   "cell_type": "code",
   "execution_count": 30,
   "id": "8339a3f0",
   "metadata": {
    "scrolled": true
   },
   "outputs": [
    {
     "data": {
      "text/plain": [
       "<seaborn.axisgrid.PairGrid at 0x20fc5968df0>"
      ]
     },
     "execution_count": 30,
     "metadata": {},
     "output_type": "execute_result"
    },
    {
     "data": {
      "image/png": "[encoded data removed]",
      "text/plain": [
       "<Figure size 360x360 with 6 Axes>"
      ]
     },
     "metadata": {
      "needs_background": "light"
     },
     "output_type": "display_data"
    }
   ],
   "source": [
    "sns.pairplot(DF)"
   ]
  },
  {
   "cell_type": "code",
   "execution_count": 31,
   "id": "4f4fee74",
   "metadata": {},
   "outputs": [],
   "source": [
    "x=DF[[\"Experience\"]]"
   ]
  },
  {
   "cell_type": "code",
   "execution_count": 32,
   "id": "e7a9fb19",
   "metadata": {},
   "outputs": [
    {
     "data": {
      "text/html": [
       "<div>\n",
       "<style scoped>\n",
       "    .dataframe tbody tr th:only-of-type {\n",
       "        vertical-align: middle;\n",
       "    }\n",
       "\n",
       "    .dataframe tbody tr th {\n",
       "        vertical-align: top;\n",
       "    }\n",
       "\n",
       "    .dataframe thead th {\n",
       "        text-align: right;\n",
       "    }\n",
       "</style>\n",
       "<table border=\"1\" class=\"dataframe\">\n",
       "  <thead>\n",
       "    <tr style=\"text-align: right;\">\n",
       "      <th></th>\n",
       "      <th>Experience</th>\n",
       "    </tr>\n",
       "  </thead>\n",
       "  <tbody>\n",
       "    <tr>\n",
       "      <th>0</th>\n",
       "      <td>1.1</td>\n",
       "    </tr>\n",
       "    <tr>\n",
       "      <th>1</th>\n",
       "      <td>1.3</td>\n",
       "    </tr>\n",
       "    <tr>\n",
       "      <th>2</th>\n",
       "      <td>1.5</td>\n",
       "    </tr>\n",
       "    <tr>\n",
       "      <th>3</th>\n",
       "      <td>2.0</td>\n",
       "    </tr>\n",
       "    <tr>\n",
       "      <th>4</th>\n",
       "      <td>2.2</td>\n",
       "    </tr>\n",
       "    <tr>\n",
       "      <th>5</th>\n",
       "      <td>2.9</td>\n",
       "    </tr>\n",
       "    <tr>\n",
       "      <th>6</th>\n",
       "      <td>3.0</td>\n",
       "    </tr>\n",
       "    <tr>\n",
       "      <th>7</th>\n",
       "      <td>3.2</td>\n",
       "    </tr>\n",
       "    <tr>\n",
       "      <th>8</th>\n",
       "      <td>3.2</td>\n",
       "    </tr>\n",
       "    <tr>\n",
       "      <th>9</th>\n",
       "      <td>3.7</td>\n",
       "    </tr>\n",
       "    <tr>\n",
       "      <th>10</th>\n",
       "      <td>3.9</td>\n",
       "    </tr>\n",
       "    <tr>\n",
       "      <th>11</th>\n",
       "      <td>4.0</td>\n",
       "    </tr>\n",
       "    <tr>\n",
       "      <th>12</th>\n",
       "      <td>4.0</td>\n",
       "    </tr>\n",
       "    <tr>\n",
       "      <th>13</th>\n",
       "      <td>4.1</td>\n",
       "    </tr>\n",
       "    <tr>\n",
       "      <th>14</th>\n",
       "      <td>4.5</td>\n",
       "    </tr>\n",
       "    <tr>\n",
       "      <th>15</th>\n",
       "      <td>4.9</td>\n",
       "    </tr>\n",
       "    <tr>\n",
       "      <th>16</th>\n",
       "      <td>5.1</td>\n",
       "    </tr>\n",
       "    <tr>\n",
       "      <th>17</th>\n",
       "      <td>5.3</td>\n",
       "    </tr>\n",
       "    <tr>\n",
       "      <th>18</th>\n",
       "      <td>5.9</td>\n",
       "    </tr>\n",
       "    <tr>\n",
       "      <th>19</th>\n",
       "      <td>6.0</td>\n",
       "    </tr>\n",
       "    <tr>\n",
       "      <th>20</th>\n",
       "      <td>6.8</td>\n",
       "    </tr>\n",
       "    <tr>\n",
       "      <th>21</th>\n",
       "      <td>7.1</td>\n",
       "    </tr>\n",
       "    <tr>\n",
       "      <th>22</th>\n",
       "      <td>7.9</td>\n",
       "    </tr>\n",
       "    <tr>\n",
       "      <th>23</th>\n",
       "      <td>8.2</td>\n",
       "    </tr>\n",
       "    <tr>\n",
       "      <th>24</th>\n",
       "      <td>8.7</td>\n",
       "    </tr>\n",
       "    <tr>\n",
       "      <th>25</th>\n",
       "      <td>9.0</td>\n",
       "    </tr>\n",
       "    <tr>\n",
       "      <th>26</th>\n",
       "      <td>9.5</td>\n",
       "    </tr>\n",
       "    <tr>\n",
       "      <th>27</th>\n",
       "      <td>9.6</td>\n",
       "    </tr>\n",
       "    <tr>\n",
       "      <th>28</th>\n",
       "      <td>10.3</td>\n",
       "    </tr>\n",
       "    <tr>\n",
       "      <th>29</th>\n",
       "      <td>10.5</td>\n",
       "    </tr>\n",
       "  </tbody>\n",
       "</table>\n",
       "</div>"
      ],
      "text/plain": [
       "    Experience\n",
       "0          1.1\n",
       "1          1.3\n",
       "2          1.5\n",
       "3          2.0\n",
       "4          2.2\n",
       "5          2.9\n",
       "6          3.0\n",
       "7          3.2\n",
       "8          3.2\n",
       "9          3.7\n",
       "10         3.9\n",
       "11         4.0\n",
       "12         4.0\n",
       "13         4.1\n",
       "14         4.5\n",
       "15         4.9\n",
       "16         5.1\n",
       "17         5.3\n",
       "18         5.9\n",
       "19         6.0\n",
       "20         6.8\n",
       "21         7.1\n",
       "22         7.9\n",
       "23         8.2\n",
       "24         8.7\n",
       "25         9.0\n",
       "26         9.5\n",
       "27         9.6\n",
       "28        10.3\n",
       "29        10.5"
      ]
     },
     "execution_count": 32,
     "metadata": {},
     "output_type": "execute_result"
    }
   ],
   "source": [
    "x"
   ]
  },
  {
   "cell_type": "code",
   "execution_count": 33,
   "id": "66a7d1dd",
   "metadata": {},
   "outputs": [],
   "source": [
    "y=DF[[\"Salary\"]]"
   ]
  },
  {
   "cell_type": "code",
   "execution_count": 34,
   "id": "dc7268f6",
   "metadata": {},
   "outputs": [
    {
     "data": {
      "text/html": [
       "<div>\n",
       "<style scoped>\n",
       "    .dataframe tbody tr th:only-of-type {\n",
       "        vertical-align: middle;\n",
       "    }\n",
       "\n",
       "    .dataframe tbody tr th {\n",
       "        vertical-align: top;\n",
       "    }\n",
       "\n",
       "    .dataframe thead th {\n",
       "        text-align: right;\n",
       "    }\n",
       "</style>\n",
       "<table border=\"1\" class=\"dataframe\">\n",
       "  <thead>\n",
       "    <tr style=\"text-align: right;\">\n",
       "      <th></th>\n",
       "      <th>Salary</th>\n",
       "    </tr>\n",
       "  </thead>\n",
       "  <tbody>\n",
       "    <tr>\n",
       "      <th>0</th>\n",
       "      <td>39343</td>\n",
       "    </tr>\n",
       "    <tr>\n",
       "      <th>1</th>\n",
       "      <td>46205</td>\n",
       "    </tr>\n",
       "    <tr>\n",
       "      <th>2</th>\n",
       "      <td>37731</td>\n",
       "    </tr>\n",
       "    <tr>\n",
       "      <th>3</th>\n",
       "      <td>38500</td>\n",
       "    </tr>\n",
       "    <tr>\n",
       "      <th>4</th>\n",
       "      <td>39891</td>\n",
       "    </tr>\n",
       "    <tr>\n",
       "      <th>5</th>\n",
       "      <td>56642</td>\n",
       "    </tr>\n",
       "    <tr>\n",
       "      <th>6</th>\n",
       "      <td>60150</td>\n",
       "    </tr>\n",
       "    <tr>\n",
       "      <th>7</th>\n",
       "      <td>62000</td>\n",
       "    </tr>\n",
       "    <tr>\n",
       "      <th>8</th>\n",
       "      <td>64445</td>\n",
       "    </tr>\n",
       "    <tr>\n",
       "      <th>9</th>\n",
       "      <td>57189</td>\n",
       "    </tr>\n",
       "    <tr>\n",
       "      <th>10</th>\n",
       "      <td>63218</td>\n",
       "    </tr>\n",
       "    <tr>\n",
       "      <th>11</th>\n",
       "      <td>60000</td>\n",
       "    </tr>\n",
       "    <tr>\n",
       "      <th>12</th>\n",
       "      <td>56957</td>\n",
       "    </tr>\n",
       "    <tr>\n",
       "      <th>13</th>\n",
       "      <td>57081</td>\n",
       "    </tr>\n",
       "    <tr>\n",
       "      <th>14</th>\n",
       "      <td>61111</td>\n",
       "    </tr>\n",
       "    <tr>\n",
       "      <th>15</th>\n",
       "      <td>65000</td>\n",
       "    </tr>\n",
       "    <tr>\n",
       "      <th>16</th>\n",
       "      <td>66029</td>\n",
       "    </tr>\n",
       "    <tr>\n",
       "      <th>17</th>\n",
       "      <td>83088</td>\n",
       "    </tr>\n",
       "    <tr>\n",
       "      <th>18</th>\n",
       "      <td>81363</td>\n",
       "    </tr>\n",
       "    <tr>\n",
       "      <th>19</th>\n",
       "      <td>93940</td>\n",
       "    </tr>\n",
       "    <tr>\n",
       "      <th>20</th>\n",
       "      <td>91738</td>\n",
       "    </tr>\n",
       "    <tr>\n",
       "      <th>21</th>\n",
       "      <td>98273</td>\n",
       "    </tr>\n",
       "    <tr>\n",
       "      <th>22</th>\n",
       "      <td>101302</td>\n",
       "    </tr>\n",
       "    <tr>\n",
       "      <th>23</th>\n",
       "      <td>113812</td>\n",
       "    </tr>\n",
       "    <tr>\n",
       "      <th>24</th>\n",
       "      <td>109431</td>\n",
       "    </tr>\n",
       "    <tr>\n",
       "      <th>25</th>\n",
       "      <td>105582</td>\n",
       "    </tr>\n",
       "    <tr>\n",
       "      <th>26</th>\n",
       "      <td>116969</td>\n",
       "    </tr>\n",
       "    <tr>\n",
       "      <th>27</th>\n",
       "      <td>112635</td>\n",
       "    </tr>\n",
       "    <tr>\n",
       "      <th>28</th>\n",
       "      <td>122391</td>\n",
       "    </tr>\n",
       "    <tr>\n",
       "      <th>29</th>\n",
       "      <td>121872</td>\n",
       "    </tr>\n",
       "  </tbody>\n",
       "</table>\n",
       "</div>"
      ],
      "text/plain": [
       "    Salary\n",
       "0    39343\n",
       "1    46205\n",
       "2    37731\n",
       "3    38500\n",
       "4    39891\n",
       "5    56642\n",
       "6    60150\n",
       "7    62000\n",
       "8    64445\n",
       "9    57189\n",
       "10   63218\n",
       "11   60000\n",
       "12   56957\n",
       "13   57081\n",
       "14   61111\n",
       "15   65000\n",
       "16   66029\n",
       "17   83088\n",
       "18   81363\n",
       "19   93940\n",
       "20   91738\n",
       "21   98273\n",
       "22  101302\n",
       "23  113812\n",
       "24  109431\n",
       "25  105582\n",
       "26  116969\n",
       "27  112635\n",
       "28  122391\n",
       "29  121872"
      ]
     },
     "execution_count": 34,
     "metadata": {},
     "output_type": "execute_result"
    }
   ],
   "source": [
    "y"
   ]
  },
  {
   "cell_type": "markdown",
   "id": "b4c852ec",
   "metadata": {},
   "source": [
    "### Test and train the machine with input data"
   ]
  },
  {
   "cell_type": "code",
   "execution_count": 35,
   "id": "7465f44d",
   "metadata": {},
   "outputs": [],
   "source": [
    "from sklearn.model_selection import train_test_split"
   ]
  },
  {
   "cell_type": "code",
   "execution_count": 36,
   "id": "6f8ebd3c",
   "metadata": {},
   "outputs": [],
   "source": [
    "x_train,x_test,y_train,y_test = train_test_split(x,y,test_size=0.2,random_state=0)"
   ]
  },
  {
   "cell_type": "code",
   "execution_count": 37,
   "id": "c17abac1",
   "metadata": {},
   "outputs": [
    {
     "data": {
      "text/html": [
       "<div>\n",
       "<style scoped>\n",
       "    .dataframe tbody tr th:only-of-type {\n",
       "        vertical-align: middle;\n",
       "    }\n",
       "\n",
       "    .dataframe tbody tr th {\n",
       "        vertical-align: top;\n",
       "    }\n",
       "\n",
       "    .dataframe thead th {\n",
       "        text-align: right;\n",
       "    }\n",
       "</style>\n",
       "<table border=\"1\" class=\"dataframe\">\n",
       "  <thead>\n",
       "    <tr style=\"text-align: right;\">\n",
       "      <th></th>\n",
       "      <th>Experience</th>\n",
       "    </tr>\n",
       "  </thead>\n",
       "  <tbody>\n",
       "    <tr>\n",
       "      <th>2</th>\n",
       "      <td>1.5</td>\n",
       "    </tr>\n",
       "    <tr>\n",
       "      <th>28</th>\n",
       "      <td>10.3</td>\n",
       "    </tr>\n",
       "    <tr>\n",
       "      <th>13</th>\n",
       "      <td>4.1</td>\n",
       "    </tr>\n",
       "    <tr>\n",
       "      <th>10</th>\n",
       "      <td>3.9</td>\n",
       "    </tr>\n",
       "    <tr>\n",
       "      <th>26</th>\n",
       "      <td>9.5</td>\n",
       "    </tr>\n",
       "    <tr>\n",
       "      <th>24</th>\n",
       "      <td>8.7</td>\n",
       "    </tr>\n",
       "  </tbody>\n",
       "</table>\n",
       "</div>"
      ],
      "text/plain": [
       "    Experience\n",
       "2          1.5\n",
       "28        10.3\n",
       "13         4.1\n",
       "10         3.9\n",
       "26         9.5\n",
       "24         8.7"
      ]
     },
     "execution_count": 37,
     "metadata": {},
     "output_type": "execute_result"
    }
   ],
   "source": [
    "x_test #to check the machine with these sample values"
   ]
  },
  {
   "cell_type": "code",
   "execution_count": 38,
   "id": "48074090",
   "metadata": {},
   "outputs": [
    {
     "data": {
      "text/html": [
       "<div>\n",
       "<style scoped>\n",
       "    .dataframe tbody tr th:only-of-type {\n",
       "        vertical-align: middle;\n",
       "    }\n",
       "\n",
       "    .dataframe tbody tr th {\n",
       "        vertical-align: top;\n",
       "    }\n",
       "\n",
       "    .dataframe thead th {\n",
       "        text-align: right;\n",
       "    }\n",
       "</style>\n",
       "<table border=\"1\" class=\"dataframe\">\n",
       "  <thead>\n",
       "    <tr style=\"text-align: right;\">\n",
       "      <th></th>\n",
       "      <th>Salary</th>\n",
       "    </tr>\n",
       "  </thead>\n",
       "  <tbody>\n",
       "    <tr>\n",
       "      <th>2</th>\n",
       "      <td>37731</td>\n",
       "    </tr>\n",
       "    <tr>\n",
       "      <th>28</th>\n",
       "      <td>122391</td>\n",
       "    </tr>\n",
       "    <tr>\n",
       "      <th>13</th>\n",
       "      <td>57081</td>\n",
       "    </tr>\n",
       "    <tr>\n",
       "      <th>10</th>\n",
       "      <td>63218</td>\n",
       "    </tr>\n",
       "    <tr>\n",
       "      <th>26</th>\n",
       "      <td>116969</td>\n",
       "    </tr>\n",
       "    <tr>\n",
       "      <th>24</th>\n",
       "      <td>109431</td>\n",
       "    </tr>\n",
       "  </tbody>\n",
       "</table>\n",
       "</div>"
      ],
      "text/plain": [
       "    Salary\n",
       "2    37731\n",
       "28  122391\n",
       "13   57081\n",
       "10   63218\n",
       "26  116969\n",
       "24  109431"
      ]
     },
     "execution_count": 38,
     "metadata": {},
     "output_type": "execute_result"
    }
   ],
   "source": [
    "y_test #to check the machine with these sample values"
   ]
  },
  {
   "cell_type": "code",
   "execution_count": 39,
   "id": "c96c4384",
   "metadata": {},
   "outputs": [
    {
     "data": {
      "text/html": [
       "<div>\n",
       "<style scoped>\n",
       "    .dataframe tbody tr th:only-of-type {\n",
       "        vertical-align: middle;\n",
       "    }\n",
       "\n",
       "    .dataframe tbody tr th {\n",
       "        vertical-align: top;\n",
       "    }\n",
       "\n",
       "    .dataframe thead th {\n",
       "        text-align: right;\n",
       "    }\n",
       "</style>\n",
       "<table border=\"1\" class=\"dataframe\">\n",
       "  <thead>\n",
       "    <tr style=\"text-align: right;\">\n",
       "      <th></th>\n",
       "      <th>Experience</th>\n",
       "    </tr>\n",
       "  </thead>\n",
       "  <tbody>\n",
       "    <tr>\n",
       "      <th>27</th>\n",
       "      <td>9.6</td>\n",
       "    </tr>\n",
       "    <tr>\n",
       "      <th>11</th>\n",
       "      <td>4.0</td>\n",
       "    </tr>\n",
       "    <tr>\n",
       "      <th>17</th>\n",
       "      <td>5.3</td>\n",
       "    </tr>\n",
       "    <tr>\n",
       "      <th>22</th>\n",
       "      <td>7.9</td>\n",
       "    </tr>\n",
       "    <tr>\n",
       "      <th>5</th>\n",
       "      <td>2.9</td>\n",
       "    </tr>\n",
       "    <tr>\n",
       "      <th>16</th>\n",
       "      <td>5.1</td>\n",
       "    </tr>\n",
       "    <tr>\n",
       "      <th>8</th>\n",
       "      <td>3.2</td>\n",
       "    </tr>\n",
       "    <tr>\n",
       "      <th>14</th>\n",
       "      <td>4.5</td>\n",
       "    </tr>\n",
       "    <tr>\n",
       "      <th>23</th>\n",
       "      <td>8.2</td>\n",
       "    </tr>\n",
       "    <tr>\n",
       "      <th>20</th>\n",
       "      <td>6.8</td>\n",
       "    </tr>\n",
       "    <tr>\n",
       "      <th>1</th>\n",
       "      <td>1.3</td>\n",
       "    </tr>\n",
       "    <tr>\n",
       "      <th>29</th>\n",
       "      <td>10.5</td>\n",
       "    </tr>\n",
       "    <tr>\n",
       "      <th>6</th>\n",
       "      <td>3.0</td>\n",
       "    </tr>\n",
       "    <tr>\n",
       "      <th>4</th>\n",
       "      <td>2.2</td>\n",
       "    </tr>\n",
       "    <tr>\n",
       "      <th>18</th>\n",
       "      <td>5.9</td>\n",
       "    </tr>\n",
       "    <tr>\n",
       "      <th>19</th>\n",
       "      <td>6.0</td>\n",
       "    </tr>\n",
       "    <tr>\n",
       "      <th>9</th>\n",
       "      <td>3.7</td>\n",
       "    </tr>\n",
       "    <tr>\n",
       "      <th>7</th>\n",
       "      <td>3.2</td>\n",
       "    </tr>\n",
       "    <tr>\n",
       "      <th>25</th>\n",
       "      <td>9.0</td>\n",
       "    </tr>\n",
       "    <tr>\n",
       "      <th>3</th>\n",
       "      <td>2.0</td>\n",
       "    </tr>\n",
       "    <tr>\n",
       "      <th>0</th>\n",
       "      <td>1.1</td>\n",
       "    </tr>\n",
       "    <tr>\n",
       "      <th>21</th>\n",
       "      <td>7.1</td>\n",
       "    </tr>\n",
       "    <tr>\n",
       "      <th>15</th>\n",
       "      <td>4.9</td>\n",
       "    </tr>\n",
       "    <tr>\n",
       "      <th>12</th>\n",
       "      <td>4.0</td>\n",
       "    </tr>\n",
       "  </tbody>\n",
       "</table>\n",
       "</div>"
      ],
      "text/plain": [
       "    Experience\n",
       "27         9.6\n",
       "11         4.0\n",
       "17         5.3\n",
       "22         7.9\n",
       "5          2.9\n",
       "16         5.1\n",
       "8          3.2\n",
       "14         4.5\n",
       "23         8.2\n",
       "20         6.8\n",
       "1          1.3\n",
       "29        10.5\n",
       "6          3.0\n",
       "4          2.2\n",
       "18         5.9\n",
       "19         6.0\n",
       "9          3.7\n",
       "7          3.2\n",
       "25         9.0\n",
       "3          2.0\n",
       "0          1.1\n",
       "21         7.1\n",
       "15         4.9\n",
       "12         4.0"
      ]
     },
     "execution_count": 39,
     "metadata": {},
     "output_type": "execute_result"
    }
   ],
   "source": [
    "x_train #to train the machine by x values"
   ]
  },
  {
   "cell_type": "code",
   "execution_count": 40,
   "id": "47c68a7d",
   "metadata": {},
   "outputs": [
    {
     "data": {
      "text/html": [
       "<div>\n",
       "<style scoped>\n",
       "    .dataframe tbody tr th:only-of-type {\n",
       "        vertical-align: middle;\n",
       "    }\n",
       "\n",
       "    .dataframe tbody tr th {\n",
       "        vertical-align: top;\n",
       "    }\n",
       "\n",
       "    .dataframe thead th {\n",
       "        text-align: right;\n",
       "    }\n",
       "</style>\n",
       "<table border=\"1\" class=\"dataframe\">\n",
       "  <thead>\n",
       "    <tr style=\"text-align: right;\">\n",
       "      <th></th>\n",
       "      <th>Salary</th>\n",
       "    </tr>\n",
       "  </thead>\n",
       "  <tbody>\n",
       "    <tr>\n",
       "      <th>27</th>\n",
       "      <td>112635</td>\n",
       "    </tr>\n",
       "    <tr>\n",
       "      <th>11</th>\n",
       "      <td>60000</td>\n",
       "    </tr>\n",
       "    <tr>\n",
       "      <th>17</th>\n",
       "      <td>83088</td>\n",
       "    </tr>\n",
       "    <tr>\n",
       "      <th>22</th>\n",
       "      <td>101302</td>\n",
       "    </tr>\n",
       "    <tr>\n",
       "      <th>5</th>\n",
       "      <td>56642</td>\n",
       "    </tr>\n",
       "    <tr>\n",
       "      <th>16</th>\n",
       "      <td>66029</td>\n",
       "    </tr>\n",
       "    <tr>\n",
       "      <th>8</th>\n",
       "      <td>64445</td>\n",
       "    </tr>\n",
       "    <tr>\n",
       "      <th>14</th>\n",
       "      <td>61111</td>\n",
       "    </tr>\n",
       "    <tr>\n",
       "      <th>23</th>\n",
       "      <td>113812</td>\n",
       "    </tr>\n",
       "    <tr>\n",
       "      <th>20</th>\n",
       "      <td>91738</td>\n",
       "    </tr>\n",
       "    <tr>\n",
       "      <th>1</th>\n",
       "      <td>46205</td>\n",
       "    </tr>\n",
       "    <tr>\n",
       "      <th>29</th>\n",
       "      <td>121872</td>\n",
       "    </tr>\n",
       "    <tr>\n",
       "      <th>6</th>\n",
       "      <td>60150</td>\n",
       "    </tr>\n",
       "    <tr>\n",
       "      <th>4</th>\n",
       "      <td>39891</td>\n",
       "    </tr>\n",
       "    <tr>\n",
       "      <th>18</th>\n",
       "      <td>81363</td>\n",
       "    </tr>\n",
       "    <tr>\n",
       "      <th>19</th>\n",
       "      <td>93940</td>\n",
       "    </tr>\n",
       "    <tr>\n",
       "      <th>9</th>\n",
       "      <td>57189</td>\n",
       "    </tr>\n",
       "    <tr>\n",
       "      <th>7</th>\n",
       "      <td>62000</td>\n",
       "    </tr>\n",
       "    <tr>\n",
       "      <th>25</th>\n",
       "      <td>105582</td>\n",
       "    </tr>\n",
       "    <tr>\n",
       "      <th>3</th>\n",
       "      <td>38500</td>\n",
       "    </tr>\n",
       "    <tr>\n",
       "      <th>0</th>\n",
       "      <td>39343</td>\n",
       "    </tr>\n",
       "    <tr>\n",
       "      <th>21</th>\n",
       "      <td>98273</td>\n",
       "    </tr>\n",
       "    <tr>\n",
       "      <th>15</th>\n",
       "      <td>65000</td>\n",
       "    </tr>\n",
       "    <tr>\n",
       "      <th>12</th>\n",
       "      <td>56957</td>\n",
       "    </tr>\n",
       "  </tbody>\n",
       "</table>\n",
       "</div>"
      ],
      "text/plain": [
       "    Salary\n",
       "27  112635\n",
       "11   60000\n",
       "17   83088\n",
       "22  101302\n",
       "5    56642\n",
       "16   66029\n",
       "8    64445\n",
       "14   61111\n",
       "23  113812\n",
       "20   91738\n",
       "1    46205\n",
       "29  121872\n",
       "6    60150\n",
       "4    39891\n",
       "18   81363\n",
       "19   93940\n",
       "9    57189\n",
       "7    62000\n",
       "25  105582\n",
       "3    38500\n",
       "0    39343\n",
       "21   98273\n",
       "15   65000\n",
       "12   56957"
      ]
     },
     "execution_count": 40,
     "metadata": {},
     "output_type": "execute_result"
    }
   ],
   "source": [
    "y_train #to train the machine by y values"
   ]
  },
  {
   "cell_type": "code",
   "execution_count": 41,
   "id": "4e79d1cb",
   "metadata": {},
   "outputs": [],
   "source": [
    "from sklearn.linear_model import LinearRegression"
   ]
  },
  {
   "cell_type": "code",
   "execution_count": 42,
   "id": "6dd992fa",
   "metadata": {},
   "outputs": [],
   "source": [
    "lm = LinearRegression()"
   ]
  },
  {
   "cell_type": "code",
   "execution_count": 43,
   "id": "f63c6b25",
   "metadata": {},
   "outputs": [
    {
     "data": {
      "text/plain": [
       "LinearRegression()"
      ]
     },
     "execution_count": 43,
     "metadata": {},
     "output_type": "execute_result"
    }
   ],
   "source": [
    "lm.fit(x_train,y_train)"
   ]
  },
  {
   "cell_type": "code",
   "execution_count": 44,
   "id": "b39d4581",
   "metadata": {},
   "outputs": [
    {
     "name": "stdout",
     "output_type": "stream",
     "text": [
      "[[9295.97646532]]\n"
     ]
    }
   ],
   "source": [
    "print(lm.coef_)"
   ]
  },
  {
   "cell_type": "code",
   "execution_count": 45,
   "id": "ec0d84e6",
   "metadata": {},
   "outputs": [
    {
     "name": "stdout",
     "output_type": "stream",
     "text": [
      "[27022.31071291]\n"
     ]
    }
   ],
   "source": [
    "print(lm.intercept_)"
   ]
  },
  {
   "cell_type": "code",
   "execution_count": 46,
   "id": "837a84ce",
   "metadata": {},
   "outputs": [],
   "source": [
    "y_predict=lm.predict(x_test)"
   ]
  },
  {
   "cell_type": "code",
   "execution_count": 47,
   "id": "fa81fe6e",
   "metadata": {
    "scrolled": true
   },
   "outputs": [
    {
     "data": {
      "text/plain": [
       "array([[ 40966.27541089],\n",
       "       [122770.86830573],\n",
       "       [ 65135.81422073],\n",
       "       [ 63276.61892767],\n",
       "       [115334.08713347],\n",
       "       [107897.30596122]])"
      ]
     },
     "execution_count": 47,
     "metadata": {},
     "output_type": "execute_result"
    }
   ],
   "source": [
    "y_predict"
   ]
  },
  {
   "cell_type": "code",
   "execution_count": 48,
   "id": "32d76eeb",
   "metadata": {},
   "outputs": [
    {
     "data": {
      "text/html": [
       "<div>\n",
       "<style scoped>\n",
       "    .dataframe tbody tr th:only-of-type {\n",
       "        vertical-align: middle;\n",
       "    }\n",
       "\n",
       "    .dataframe tbody tr th {\n",
       "        vertical-align: top;\n",
       "    }\n",
       "\n",
       "    .dataframe thead th {\n",
       "        text-align: right;\n",
       "    }\n",
       "</style>\n",
       "<table border=\"1\" class=\"dataframe\">\n",
       "  <thead>\n",
       "    <tr style=\"text-align: right;\">\n",
       "      <th></th>\n",
       "      <th>Salary</th>\n",
       "    </tr>\n",
       "  </thead>\n",
       "  <tbody>\n",
       "    <tr>\n",
       "      <th>2</th>\n",
       "      <td>37731</td>\n",
       "    </tr>\n",
       "    <tr>\n",
       "      <th>28</th>\n",
       "      <td>122391</td>\n",
       "    </tr>\n",
       "    <tr>\n",
       "      <th>13</th>\n",
       "      <td>57081</td>\n",
       "    </tr>\n",
       "    <tr>\n",
       "      <th>10</th>\n",
       "      <td>63218</td>\n",
       "    </tr>\n",
       "    <tr>\n",
       "      <th>26</th>\n",
       "      <td>116969</td>\n",
       "    </tr>\n",
       "    <tr>\n",
       "      <th>24</th>\n",
       "      <td>109431</td>\n",
       "    </tr>\n",
       "  </tbody>\n",
       "</table>\n",
       "</div>"
      ],
      "text/plain": [
       "    Salary\n",
       "2    37731\n",
       "28  122391\n",
       "13   57081\n",
       "10   63218\n",
       "26  116969\n",
       "24  109431"
      ]
     },
     "execution_count": 48,
     "metadata": {},
     "output_type": "execute_result"
    }
   ],
   "source": [
    "y_test"
   ]
  },
  {
   "cell_type": "code",
   "execution_count": 49,
   "id": "d4a29884",
   "metadata": {
    "scrolled": true
   },
   "outputs": [
    {
     "data": {
      "text/plain": [
       "<AxesSubplot:xlabel='Experience', ylabel='Salary'>"
      ]
     },
     "execution_count": 49,
     "metadata": {},
     "output_type": "execute_result"
    },
    {
     "data": {
      "image/png": "[encoded data removed]",
      "text/plain": [
       "<Figure size 432x288 with 1 Axes>"
      ]
     },
     "metadata": {
      "needs_background": "light"
     },
     "output_type": "display_data"
    }
   ],
   "source": [
    "sns.regplot(x=\"Experience\",y=\"Salary\",data=DF,fit_reg=True)"
   ]
  },
  {
   "cell_type": "code",
   "execution_count": 50,
   "id": "7d4d4355",
   "metadata": {},
   "outputs": [],
   "source": [
    "####POLYNOMIAL REGGRESSUON"
   ]
  },
  {
   "cell_type": "code",
   "execution_count": 51,
   "id": "bf27d984",
   "metadata": {},
   "outputs": [],
   "source": [
    "from sklearn.preprocessing import PolynomialFeatures"
   ]
  },
  {
   "cell_type": "code",
   "execution_count": 69,
   "id": "8e7b8b5e",
   "metadata": {},
   "outputs": [],
   "source": [
    "poly=PolynomialFeatures(degree=4)\n",
    "#we shd not give more than 7 values in degree wch leads to overfit(it will start passing through all poits)\n",
    "#(under fit mean error is so far than the obs val)"
   ]
  },
  {
   "cell_type": "code",
   "execution_count": 61,
   "id": "516f2593",
   "metadata": {},
   "outputs": [],
   "source": [
    "x_poly=poly.fit_transform(x)\n",
    "#to fit the x values to xpow2 xpow3 xpow4\n",
    "#[initial,2]-->[fit(operation),x+10]-->[transform,12]"
   ]
  },
  {
   "cell_type": "code",
   "execution_count": 63,
   "id": "0e2f59b5",
   "metadata": {},
   "outputs": [],
   "source": [
    "y_poly=poly.fit_transform(y)"
   ]
  },
  {
   "cell_type": "code",
   "execution_count": 78,
   "id": "228e3507",
   "metadata": {},
   "outputs": [],
   "source": [
    "x_poly_train,x_poly_test,y_poly_train,y_poly_test = train_test_split(x_poly,y_poly,test_size=0.2,random_state=0)"
   ]
  },
  {
   "cell_type": "raw",
   "id": "21b566b8",
   "metadata": {},
   "source": []
  },
  {
   "cell_type": "code",
   "execution_count": 79,
   "id": "8999d41f",
   "metadata": {},
   "outputs": [
    {
     "data": {
      "text/plain": [
       "array([[1.00000000e+00, 9.60000000e+00, 9.21600000e+01, 8.84736000e+02,\n",
       "        8.49346560e+03],\n",
       "       [1.00000000e+00, 4.00000000e+00, 1.60000000e+01, 6.40000000e+01,\n",
       "        2.56000000e+02],\n",
       "       [1.00000000e+00, 5.30000000e+00, 2.80900000e+01, 1.48877000e+02,\n",
       "        7.89048100e+02],\n",
       "       [1.00000000e+00, 7.90000000e+00, 6.24100000e+01, 4.93039000e+02,\n",
       "        3.89500810e+03],\n",
       "       [1.00000000e+00, 2.90000000e+00, 8.41000000e+00, 2.43890000e+01,\n",
       "        7.07281000e+01],\n",
       "       [1.00000000e+00, 5.10000000e+00, 2.60100000e+01, 1.32651000e+02,\n",
       "        6.76520100e+02],\n",
       "       [1.00000000e+00, 3.20000000e+00, 1.02400000e+01, 3.27680000e+01,\n",
       "        1.04857600e+02],\n",
       "       [1.00000000e+00, 4.50000000e+00, 2.02500000e+01, 9.11250000e+01,\n",
       "        4.10062500e+02],\n",
       "       [1.00000000e+00, 8.20000000e+00, 6.72400000e+01, 5.51368000e+02,\n",
       "        4.52121760e+03],\n",
       "       [1.00000000e+00, 6.80000000e+00, 4.62400000e+01, 3.14432000e+02,\n",
       "        2.13813760e+03],\n",
       "       [1.00000000e+00, 1.30000000e+00, 1.69000000e+00, 2.19700000e+00,\n",
       "        2.85610000e+00],\n",
       "       [1.00000000e+00, 1.05000000e+01, 1.10250000e+02, 1.15762500e+03,\n",
       "        1.21550625e+04],\n",
       "       [1.00000000e+00, 3.00000000e+00, 9.00000000e+00, 2.70000000e+01,\n",
       "        8.10000000e+01],\n",
       "       [1.00000000e+00, 2.20000000e+00, 4.84000000e+00, 1.06480000e+01,\n",
       "        2.34256000e+01],\n",
       "       [1.00000000e+00, 5.90000000e+00, 3.48100000e+01, 2.05379000e+02,\n",
       "        1.21173610e+03],\n",
       "       [1.00000000e+00, 6.00000000e+00, 3.60000000e+01, 2.16000000e+02,\n",
       "        1.29600000e+03],\n",
       "       [1.00000000e+00, 3.70000000e+00, 1.36900000e+01, 5.06530000e+01,\n",
       "        1.87416100e+02],\n",
       "       [1.00000000e+00, 3.20000000e+00, 1.02400000e+01, 3.27680000e+01,\n",
       "        1.04857600e+02],\n",
       "       [1.00000000e+00, 9.00000000e+00, 8.10000000e+01, 7.29000000e+02,\n",
       "        6.56100000e+03],\n",
       "       [1.00000000e+00, 2.00000000e+00, 4.00000000e+00, 8.00000000e+00,\n",
       "        1.60000000e+01],\n",
       "       [1.00000000e+00, 1.10000000e+00, 1.21000000e+00, 1.33100000e+00,\n",
       "        1.46410000e+00],\n",
       "       [1.00000000e+00, 7.10000000e+00, 5.04100000e+01, 3.57911000e+02,\n",
       "        2.54116810e+03],\n",
       "       [1.00000000e+00, 4.90000000e+00, 2.40100000e+01, 1.17649000e+02,\n",
       "        5.76480100e+02],\n",
       "       [1.00000000e+00, 4.00000000e+00, 1.60000000e+01, 6.40000000e+01,\n",
       "        2.56000000e+02]])"
      ]
     },
     "execution_count": 79,
     "metadata": {},
     "output_type": "execute_result"
    }
   ],
   "source": [
    "x_poly_train"
   ]
  },
  {
   "cell_type": "code",
   "execution_count": 80,
   "id": "f05778a4",
   "metadata": {},
   "outputs": [
    {
     "data": {
      "text/plain": [
       "array([[1.00000000e+00, 1.12635000e+05, 1.26866432e+10, 1.42896006e+15,\n",
       "        1.60950916e+20],\n",
       "       [1.00000000e+00, 6.00000000e+04, 3.60000000e+09, 2.16000000e+14,\n",
       "        1.29600000e+19],\n",
       "       [1.00000000e+00, 8.30880000e+04, 6.90361574e+09, 5.73607625e+14,\n",
       "        4.76599103e+19],\n",
       "       [1.00000000e+00, 1.01302000e+05, 1.02620952e+10, 1.03957077e+15,\n",
       "        1.05310598e+20],\n",
       "       [1.00000000e+00, 5.66420000e+04, 3.20831616e+09, 1.81725444e+14,\n",
       "        1.02932926e+19],\n",
       "       [1.00000000e+00, 6.60290000e+04, 4.35982884e+09, 2.87875139e+14,\n",
       "        1.90081075e+19],\n",
       "       [1.00000000e+00, 6.44450000e+04, 4.15315802e+09, 2.67650269e+14,\n",
       "        1.72487216e+19],\n",
       "       [1.00000000e+00, 6.11110000e+04, 3.73455432e+09, 2.28222349e+14,\n",
       "        1.39468960e+19],\n",
       "       [1.00000000e+00, 1.13812000e+05, 1.29531713e+10, 1.47422634e+15,\n",
       "        1.67784648e+20],\n",
       "       [1.00000000e+00, 9.17380000e+04, 8.41586064e+09, 7.72054224e+14,\n",
       "        7.08267104e+19],\n",
       "       [1.00000000e+00, 4.62050000e+04, 2.13490202e+09, 9.86431481e+13,\n",
       "        4.55780666e+18],\n",
       "       [1.00000000e+00, 1.21872000e+05, 1.48527844e+10, 1.81013854e+15,\n",
       "        2.20605204e+20],\n",
       "       [1.00000000e+00, 6.01500000e+04, 3.61802250e+09, 2.17624053e+14,\n",
       "        1.30900868e+19],\n",
       "       [1.00000000e+00, 3.98910000e+04, 1.59129188e+09, 6.34782244e+13,\n",
       "        2.53220985e+18],\n",
       "       [1.00000000e+00, 8.13630000e+04, 6.61993777e+09, 5.38617997e+14,\n",
       "        4.38235761e+19],\n",
       "       [1.00000000e+00, 9.39400000e+04, 8.82472360e+09, 8.28994535e+14,\n",
       "        7.78757466e+19],\n",
       "       [1.00000000e+00, 5.71890000e+04, 3.27058172e+09, 1.87041298e+14,\n",
       "        1.06967048e+19],\n",
       "       [1.00000000e+00, 6.20000000e+04, 3.84400000e+09, 2.38328000e+14,\n",
       "        1.47763360e+19],\n",
       "       [1.00000000e+00, 1.05582000e+05, 1.11475587e+10, 1.17698155e+15,\n",
       "        1.24268066e+20],\n",
       "       [1.00000000e+00, 3.85000000e+04, 1.48225000e+09, 5.70666250e+13,\n",
       "        2.19706506e+18],\n",
       "       [1.00000000e+00, 3.93430000e+04, 1.54787165e+09, 6.08979143e+13,\n",
       "        2.39590664e+18],\n",
       "       [1.00000000e+00, 9.82730000e+04, 9.65758253e+09, 9.49079608e+14,\n",
       "        9.32689003e+19],\n",
       "       [1.00000000e+00, 6.50000000e+04, 4.22500000e+09, 2.74625000e+14,\n",
       "        1.78506250e+19],\n",
       "       [1.00000000e+00, 5.69570000e+04, 3.24409985e+09, 1.84774195e+14,\n",
       "        1.05241838e+19]])"
      ]
     },
     "execution_count": 80,
     "metadata": {},
     "output_type": "execute_result"
    }
   ],
   "source": [
    "y_poly_train"
   ]
  },
  {
   "cell_type": "code",
   "execution_count": 81,
   "id": "712e173e",
   "metadata": {},
   "outputs": [
    {
     "data": {
      "text/plain": [
       "array([[1.00000000e+00, 1.50000000e+00, 2.25000000e+00, 3.37500000e+00,\n",
       "        5.06250000e+00],\n",
       "       [1.00000000e+00, 1.03000000e+01, 1.06090000e+02, 1.09272700e+03,\n",
       "        1.12550881e+04],\n",
       "       [1.00000000e+00, 4.10000000e+00, 1.68100000e+01, 6.89210000e+01,\n",
       "        2.82576100e+02],\n",
       "       [1.00000000e+00, 3.90000000e+00, 1.52100000e+01, 5.93190000e+01,\n",
       "        2.31344100e+02],\n",
       "       [1.00000000e+00, 9.50000000e+00, 9.02500000e+01, 8.57375000e+02,\n",
       "        8.14506250e+03],\n",
       "       [1.00000000e+00, 8.70000000e+00, 7.56900000e+01, 6.58503000e+02,\n",
       "        5.72897610e+03]])"
      ]
     },
     "execution_count": 81,
     "metadata": {},
     "output_type": "execute_result"
    }
   ],
   "source": [
    "x_poly_test"
   ]
  },
  {
   "cell_type": "code",
   "execution_count": 84,
   "id": "97ce92a1",
   "metadata": {},
   "outputs": [
    {
     "data": {
      "text/plain": [
       "array([[1.00000000e+00, 3.77310000e+04, 1.42362836e+09, 5.37149217e+13,\n",
       "        2.02671771e+18],\n",
       "       [1.00000000e+00, 1.22391000e+05, 1.49795569e+10, 1.83336295e+15,\n",
       "        2.24387124e+20],\n",
       "       [1.00000000e+00, 5.70810000e+04, 3.25824056e+09, 1.85983629e+14,\n",
       "        1.06161316e+19],\n",
       "       [1.00000000e+00, 6.32180000e+04, 3.99651552e+09, 2.52651718e+14,\n",
       "        1.59721363e+19],\n",
       "       [1.00000000e+00, 1.16969000e+05, 1.36817470e+10, 1.60034026e+15,\n",
       "        1.87190200e+20],\n",
       "       [1.00000000e+00, 1.09431000e+05, 1.19751438e+10, 1.31045196e+15,\n",
       "        1.43404068e+20]])"
      ]
     },
     "execution_count": 84,
     "metadata": {},
     "output_type": "execute_result"
    }
   ],
   "source": [
    "y_poly_test"
   ]
  },
  {
   "cell_type": "code",
   "execution_count": 83,
   "id": "b0ccafab",
   "metadata": {},
   "outputs": [],
   "source": [
    "from sklearn.linear_model import LinearRegression"
   ]
  },
  {
   "cell_type": "code",
   "execution_count": 71,
   "id": "188f1db0",
   "metadata": {},
   "outputs": [],
   "source": [
    "lm2=LinearRegression()"
   ]
  },
  {
   "cell_type": "code",
   "execution_count": 85,
   "id": "93a1bf36",
   "metadata": {},
   "outputs": [
    {
     "data": {
      "text/plain": [
       "LinearRegression()"
      ]
     },
     "execution_count": 85,
     "metadata": {},
     "output_type": "execute_result"
    }
   ],
   "source": [
    "lm2.fit(x_poly_train,y_train)"
   ]
  },
  {
   "cell_type": "code",
   "execution_count": 93,
   "id": "6cf2cafa",
   "metadata": {},
   "outputs": [],
   "source": [
    "import matplotlib.pyplot as plt #we can plot the points\n",
    "import seaborn as sns #data visualisation to plot points and bar charts \n",
    "%matplotlib inline"
   ]
  },
  {
   "cell_type": "code",
   "execution_count": 101,
   "id": "2774ce94",
   "metadata": {
    "scrolled": true
   },
   "outputs": [
    {
     "data": {
      "text/plain": [
       "[<matplotlib.lines.Line2D at 0x20fc7ad6d30>,\n",
       " <matplotlib.lines.Line2D at 0x20fc7ad6dc0>,\n",
       " <matplotlib.lines.Line2D at 0x20fc7ad6e20>,\n",
       " <matplotlib.lines.Line2D at 0x20fc7ae50a0>,\n",
       " <matplotlib.lines.Line2D at 0x20fc7ae51c0>]"
      ]
     },
     "execution_count": 101,
     "metadata": {},
     "output_type": "execute_result"
    },
    {
     "data": {
      "image/png": "[encoded data removed]",
      "text/plain": [
       "<Figure size 432x288 with 1 Axes>"
      ]
     },
     "metadata": {
      "needs_background": "light"
     },
     "output_type": "display_data"
    }
   ],
   "source": [
    "plt.scatter(x,y,color=\"green\")\n",
    "plt.plot(x,lm2.predict(poly.fit_transform(x)))"
   ]
  },
  {
   "cell_type": "code",
   "execution_count": 102,
   "id": "24e5cff1",
   "metadata": {},
   "outputs": [
    {
     "data": {
      "text/plain": [
       "array([[1.00000000e+00, 4.26734040e+04, 1.85678372e+09, 8.36838555e+13,\n",
       "        4.03108170e+18],\n",
       "       [1.00000000e+00, 1.18616421e+05, 1.41222653e+10, 1.68681704e+15,\n",
       "        2.01902485e+20],\n",
       "       [1.00000000e+00, 6.35983270e+04, 4.09477279e+09, 2.66506406e+14,\n",
       "        1.75213356e+19],\n",
       "       [1.00000000e+00, 6.15777056e+04, 3.82680587e+09, 2.38831000e+14,\n",
       "        1.48856751e+19],\n",
       "       [1.00000000e+00, 1.15171485e+05, 1.32105532e+10, 1.50787985e+15,\n",
       "        1.71601093e+20],\n",
       "       [1.00000000e+00, 1.09964802e+05, 1.20265746e+10, 1.30782686e+15,\n",
       "        1.41708485e+20]])"
      ]
     },
     "execution_count": 102,
     "metadata": {},
     "output_type": "execute_result"
    }
   ],
   "source": [
    "lm2.predict(x_poly_test)"
   ]
  },
  {
   "cell_type": "code",
   "execution_count": 103,
   "id": "3404741c",
   "metadata": {},
   "outputs": [
    {
     "data": {
      "text/plain": [
       "array([[1.00000000e+00, 3.77310000e+04, 1.42362836e+09, 5.37149217e+13,\n",
       "        2.02671771e+18],\n",
       "       [1.00000000e+00, 1.22391000e+05, 1.49795569e+10, 1.83336295e+15,\n",
       "        2.24387124e+20],\n",
       "       [1.00000000e+00, 5.70810000e+04, 3.25824056e+09, 1.85983629e+14,\n",
       "        1.06161316e+19],\n",
       "       [1.00000000e+00, 6.32180000e+04, 3.99651552e+09, 2.52651718e+14,\n",
       "        1.59721363e+19],\n",
       "       [1.00000000e+00, 1.16969000e+05, 1.36817470e+10, 1.60034026e+15,\n",
       "        1.87190200e+20],\n",
       "       [1.00000000e+00, 1.09431000e+05, 1.19751438e+10, 1.31045196e+15,\n",
       "        1.43404068e+20]])"
      ]
     },
     "execution_count": 103,
     "metadata": {},
     "output_type": "execute_result"
    }
   ],
   "source": [
    "y_test"
   ]
  },
  {
   "cell_type": "code",
   "execution_count": null,
   "id": "61a14aee",
   "metadata": {},
   "outputs": [],
   "source": []
  }
 ],
 "metadata": {
  "kernelspec": {
   "display_name": "Python 3 (ipykernel)",
   "language": "python",
   "name": "python3"
  },
  "language_info": {
   "codemirror_mode": {
    "name": "ipython",
    "version": 3
   },
   "file_extension": ".py",
   "mimetype": "text/x-python",
   "name": "python",
   "nbconvert_exporter": "python",
   "pygments_lexer": "ipython3",
   "version": "3.9.7"
  }
 },
 "nbformat": 4,
 "nbformat_minor": 5
}
